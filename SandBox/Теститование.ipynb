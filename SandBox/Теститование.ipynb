{
 "cells": [
  {
   "cell_type": "markdown",
   "id": "fcf5330a",
   "metadata": {},
   "source": [
    "-------------------------------------------------\n",
    "Транслитерация Русский-Английский по ГОСТ 16876-71"
   ]
  },
  {
   "cell_type": "code",
   "execution_count": 24,
   "id": "56237d06",
   "metadata": {
    "scrolled": true
   },
   "outputs": [
    {
     "name": "stdout",
     "output_type": "stream",
     "text": [
      "{'а': 'a', 'б': 'b', 'в': 'v', 'г': 'g', 'д': 'd', 'е': 'e', 'ё': 'jo', 'ж': 'zh', 'з': 'z', 'и': 'i', 'й': 'jj', 'к': 'k', 'л': 'l', 'м': 'm', 'н': 'n', 'о': 'o', 'п': 'p', 'р': 'r', 'с': 's', 'т': 't', 'у': 'u', 'ф': 'f', 'х': 'kh', 'ц': 'c', 'ч': 'ch', 'ш': 'sh', 'щ': 'shh', 'ъ': '', 'ы': 'y', 'ь': '', 'э': 'eh', 'ю': 'ju', 'я': 'ja', 'А': 'A', 'Б': 'B', 'В': 'V', 'Г': 'G', 'Д': 'D', 'Е': 'E', 'Ё': 'JO', 'Ж': 'ZH', 'З': 'Z', 'И': 'I', 'Й': 'JJ', 'К': 'K', 'Л': 'L', 'М': 'M', 'Н': 'N', 'О': 'O', 'П': 'P', 'Р': 'R', 'С': 'S', 'Т': 'T', 'У': 'U', 'Ф': 'F', 'Х': 'KH', 'Ц': 'C', 'Ч': 'CH', 'Ш': 'SH', 'Щ': 'SHH', 'Ъ': '', 'Ы': 'Y', 'Ь': '', 'Э': 'EH', 'Ю': 'JU', 'Я': 'JA', '-': '', ' ': ''}\n"
     ]
    }
   ],
   "source": [
    "trans = \\\n",
    "{\n",
    "    'а': 'a',\n",
    "    'б': 'b',\n",
    "    'в': 'v',\n",
    "    'г': 'g',\n",
    "    'д': 'd',\n",
    "    'е': 'e',\n",
    "    'ё': 'jo',\n",
    "    'ж': 'zh',\n",
    "    'з': 'z',\n",
    "    'и': 'i',\n",
    "    'й': 'jj',\n",
    "    'к': 'k',\n",
    "    'л': 'l',\n",
    "    'м': 'm',\n",
    "    'н': 'n',\n",
    "    'о': 'o',\n",
    "    'п': 'p',\n",
    "    'р': 'r',\n",
    "    'с': 's',\n",
    "    'т': 't',\n",
    "    'у': 'u',\n",
    "    'ф': 'f',\n",
    "    'х': 'kh',\n",
    "    'ц': 'c',\n",
    "    'ч': 'ch',\n",
    "    'ш': 'sh',\n",
    "    'щ': 'shh',\n",
    "    'ъ': '',\n",
    "    'ы': 'y',\n",
    "    'ь': \"\",\n",
    "    'э': 'eh',\n",
    "    'ю': 'ju',\n",
    "    'я': 'ja',\n",
    "    'А': 'A',\n",
    "    'Б': 'B',\n",
    "    'В': 'V',\n",
    "    'Г': 'G',\n",
    "    'Д': 'D',\n",
    "    'Е': 'E',\n",
    "    'Ё': 'JO',\n",
    "    'Ж': 'ZH',\n",
    "    'З': 'Z',\n",
    "    'И': 'I',\n",
    "    'Й': 'JJ',\n",
    "    'К': 'K',\n",
    "    'Л': 'L',\n",
    "    'М': 'M',\n",
    "    'Н': 'N',\n",
    "    'О': 'O',\n",
    "    'П': 'P',\n",
    "    'Р': 'R',\n",
    "    'С': 'S',\n",
    "    'Т': 'T',\n",
    "    'У': 'U',\n",
    "    'Ф': 'F',\n",
    "    'Х': 'KH',\n",
    "    'Ц': 'C',\n",
    "    'Ч': 'CH',\n",
    "    'Ш': 'SH',\n",
    "    'Щ': 'SHH',\n",
    "    'Ъ': '',\n",
    "    'Ы': 'Y',\n",
    "    'Ь': \"\",\n",
    "    'Э': 'EH',\n",
    "    'Ю': 'JU',\n",
    "    'Я': 'JA',\n",
    "    '-': '',\n",
    "    ' ': ''\n",
    "}\n",
    "print(trans)"
   ]
  },
  {
   "cell_type": "code",
   "execution_count": 25,
   "id": "dd1db4c6",
   "metadata": {},
   "outputs": [],
   "source": [
    "import numpy as np\n",
    "import pandas as pd\n",
    "import openpyxl"
   ]
  },
  {
   "cell_type": "code",
   "execution_count": 36,
   "id": "684c0cbf",
   "metadata": {},
   "outputs": [
    {
     "data": {
      "text/html": [
       "<div>\n",
       "<style scoped>\n",
       "    .dataframe tbody tr th:only-of-type {\n",
       "        vertical-align: middle;\n",
       "    }\n",
       "\n",
       "    .dataframe tbody tr th {\n",
       "        vertical-align: top;\n",
       "    }\n",
       "\n",
       "    .dataframe thead th {\n",
       "        text-align: right;\n",
       "    }\n",
       "</style>\n",
       "<table border=\"1\" class=\"dataframe\">\n",
       "  <thead>\n",
       "    <tr style=\"text-align: right;\">\n",
       "      <th></th>\n",
       "      <th>Поле</th>\n",
       "    </tr>\n",
       "  </thead>\n",
       "  <tbody>\n",
       "    <tr>\n",
       "      <th>0</th>\n",
       "      <td>Текущая декларация о соответствии_GUID</td>\n",
       "    </tr>\n",
       "    <tr>\n",
       "      <th>1</th>\n",
       "      <td>Текущая декларация о соответствии</td>\n",
       "    </tr>\n",
       "    <tr>\n",
       "      <th>2</th>\n",
       "      <td>Текущая декларация соответствия_GUID</td>\n",
       "    </tr>\n",
       "    <tr>\n",
       "      <th>3</th>\n",
       "      <td>Текущая декларация соответствия</td>\n",
       "    </tr>\n",
       "    <tr>\n",
       "      <th>4</th>\n",
       "      <td>Текущее отказное письмо_GUID</td>\n",
       "    </tr>\n",
       "    <tr>\n",
       "      <th>5</th>\n",
       "      <td>Текущее отказное письмо</td>\n",
       "    </tr>\n",
       "    <tr>\n",
       "      <th>6</th>\n",
       "      <td>Текущий паспорт безопасности_GUID</td>\n",
       "    </tr>\n",
       "    <tr>\n",
       "      <th>7</th>\n",
       "      <td>Текущий паспорт безопасности</td>\n",
       "    </tr>\n",
       "    <tr>\n",
       "      <th>8</th>\n",
       "      <td>Текущий сертификат соответствия_GUID</td>\n",
       "    </tr>\n",
       "    <tr>\n",
       "      <th>9</th>\n",
       "      <td>Текущий сертификат соответствия</td>\n",
       "    </tr>\n",
       "  </tbody>\n",
       "</table>\n",
       "</div>"
      ],
      "text/plain": [
       "                                     Поле\n",
       "0  Текущая декларация о соответствии_GUID\n",
       "1       Текущая декларация о соответствии\n",
       "2    Текущая декларация соответствия_GUID\n",
       "3         Текущая декларация соответствия\n",
       "4            Текущее отказное письмо_GUID\n",
       "5                 Текущее отказное письмо\n",
       "6       Текущий паспорт безопасности_GUID\n",
       "7            Текущий паспорт безопасности\n",
       "8    Текущий сертификат соответствия_GUID\n",
       "9         Текущий сертификат соответствия"
      ]
     },
     "execution_count": 36,
     "metadata": {},
     "output_type": "execute_result"
    }
   ],
   "source": [
    "source = pd.read_excel('C:\\\\Users\\\\konstantin_kutovoy\\\\Documents\\\\BioVstu\\\\Регулярные\\\\translit.xlsx', sheet_name='Лист1')\n",
    "source"
   ]
  },
  {
   "cell_type": "code",
   "execution_count": 37,
   "id": "47e3a9ce",
   "metadata": {
    "scrolled": true
   },
   "outputs": [],
   "source": [
    "def translit(word):\n",
    "    new_word = ''\n",
    "    for n,i in enumerate(word):\n",
    "        if i in trans.keys():\n",
    "            if word[n-1] in [' ','-'] or n == 0:\n",
    "                new_word += trans[i].upper()\n",
    "            else:\n",
    "                new_word += trans[i]\n",
    "        else:\n",
    "            new_word += i\n",
    "    return new_word"
   ]
  },
  {
   "cell_type": "code",
   "execution_count": 38,
   "id": "2aa9c809",
   "metadata": {},
   "outputs": [],
   "source": [
    "source['Translit'] = source['Поле'].apply(translit)"
   ]
  },
  {
   "cell_type": "code",
   "execution_count": 39,
   "id": "793bd70d",
   "metadata": {},
   "outputs": [
    {
     "data": {
      "text/html": [
       "<div>\n",
       "<style scoped>\n",
       "    .dataframe tbody tr th:only-of-type {\n",
       "        vertical-align: middle;\n",
       "    }\n",
       "\n",
       "    .dataframe tbody tr th {\n",
       "        vertical-align: top;\n",
       "    }\n",
       "\n",
       "    .dataframe thead th {\n",
       "        text-align: right;\n",
       "    }\n",
       "</style>\n",
       "<table border=\"1\" class=\"dataframe\">\n",
       "  <thead>\n",
       "    <tr style=\"text-align: right;\">\n",
       "      <th></th>\n",
       "      <th>Поле</th>\n",
       "      <th>Translit</th>\n",
       "    </tr>\n",
       "  </thead>\n",
       "  <tbody>\n",
       "    <tr>\n",
       "      <th>0</th>\n",
       "      <td>Текущая декларация о соответствии_GUID</td>\n",
       "      <td>TekushhajaDeklaracijaOSootvetstvii_GUID</td>\n",
       "    </tr>\n",
       "    <tr>\n",
       "      <th>1</th>\n",
       "      <td>Текущая декларация о соответствии</td>\n",
       "      <td>TekushhajaDeklaracijaOSootvetstvii</td>\n",
       "    </tr>\n",
       "    <tr>\n",
       "      <th>2</th>\n",
       "      <td>Текущая декларация соответствия_GUID</td>\n",
       "      <td>TekushhajaDeklaracijaSootvetstvija_GUID</td>\n",
       "    </tr>\n",
       "    <tr>\n",
       "      <th>3</th>\n",
       "      <td>Текущая декларация соответствия</td>\n",
       "      <td>TekushhajaDeklaracijaSootvetstvija</td>\n",
       "    </tr>\n",
       "    <tr>\n",
       "      <th>4</th>\n",
       "      <td>Текущее отказное письмо_GUID</td>\n",
       "      <td>TekushheeOtkaznoePismo_GUID</td>\n",
       "    </tr>\n",
       "    <tr>\n",
       "      <th>5</th>\n",
       "      <td>Текущее отказное письмо</td>\n",
       "      <td>TekushheeOtkaznoePismo</td>\n",
       "    </tr>\n",
       "    <tr>\n",
       "      <th>6</th>\n",
       "      <td>Текущий паспорт безопасности_GUID</td>\n",
       "      <td>TekushhijjPasportBezopasnosti_GUID</td>\n",
       "    </tr>\n",
       "    <tr>\n",
       "      <th>7</th>\n",
       "      <td>Текущий паспорт безопасности</td>\n",
       "      <td>TekushhijjPasportBezopasnosti</td>\n",
       "    </tr>\n",
       "    <tr>\n",
       "      <th>8</th>\n",
       "      <td>Текущий сертификат соответствия_GUID</td>\n",
       "      <td>TekushhijjSertifikatSootvetstvija_GUID</td>\n",
       "    </tr>\n",
       "    <tr>\n",
       "      <th>9</th>\n",
       "      <td>Текущий сертификат соответствия</td>\n",
       "      <td>TekushhijjSertifikatSootvetstvija</td>\n",
       "    </tr>\n",
       "  </tbody>\n",
       "</table>\n",
       "</div>"
      ],
      "text/plain": [
       "                                     Поле  \\\n",
       "0  Текущая декларация о соответствии_GUID   \n",
       "1       Текущая декларация о соответствии   \n",
       "2    Текущая декларация соответствия_GUID   \n",
       "3         Текущая декларация соответствия   \n",
       "4            Текущее отказное письмо_GUID   \n",
       "5                 Текущее отказное письмо   \n",
       "6       Текущий паспорт безопасности_GUID   \n",
       "7            Текущий паспорт безопасности   \n",
       "8    Текущий сертификат соответствия_GUID   \n",
       "9         Текущий сертификат соответствия   \n",
       "\n",
       "                                  Translit  \n",
       "0  TekushhajaDeklaracijaOSootvetstvii_GUID  \n",
       "1       TekushhajaDeklaracijaOSootvetstvii  \n",
       "2  TekushhajaDeklaracijaSootvetstvija_GUID  \n",
       "3       TekushhajaDeklaracijaSootvetstvija  \n",
       "4              TekushheeOtkaznoePismo_GUID  \n",
       "5                   TekushheeOtkaznoePismo  \n",
       "6       TekushhijjPasportBezopasnosti_GUID  \n",
       "7            TekushhijjPasportBezopasnosti  \n",
       "8   TekushhijjSertifikatSootvetstvija_GUID  \n",
       "9        TekushhijjSertifikatSootvetstvija  "
      ]
     },
     "execution_count": 39,
     "metadata": {},
     "output_type": "execute_result"
    }
   ],
   "source": [
    "source"
   ]
  },
  {
   "cell_type": "code",
   "execution_count": 40,
   "id": "30949559",
   "metadata": {},
   "outputs": [],
   "source": [
    "source.to_excel('C:\\\\Users\\\\konstantin_kutovoy\\\\Documents\\\\BioVstu\\\\Регулярные\\\\translit2.xlsx', sheet_name='Лист2')"
   ]
  },
  {
   "cell_type": "markdown",
   "id": "381aa000",
   "metadata": {},
   "source": [
    "-------------------------------------------------\n",
    "Чистка данных"
   ]
  },
  {
   "cell_type": "code",
   "execution_count": 7,
   "id": "5b8d09c2",
   "metadata": {},
   "outputs": [
    {
     "name": "stdout",
     "output_type": "stream",
     "text": [
      "95 56565 !\n"
     ]
    }
   ],
   "source": [
    "def total_clear(field_data):\n",
    "    field_data = field_data.replace('  ',' ')\n",
    "    if '  ' in field_data:\n",
    "        field_data = total_clear(field_data)\n",
    "    return field_data.strip()\n",
    "\n",
    "print(total_clear('      95              56565                             !    '))"
   ]
  },
  {
   "cell_type": "code",
   "execution_count": 9,
   "id": "3ad60e35",
   "metadata": {
    "scrolled": true
   },
   "outputs": [
    {
     "name": "stdout",
     "output_type": "stream",
     "text": [
      "['   Среды питательные ЮНОНА® во фл\\tаконах к анализато   рам бактериологическим автома\\tтическим серии ЮНОНА® LABSTAR\\nв вариантах исполнения: Среда питатель   ная для детей с нейтрализаторами антибиотиков для культивирования аэробов юнона® во флаконе, 50 флаконов']\n"
     ]
    }
   ],
   "source": [
    "tht = []\n",
    "with open('C:\\\\Users\\\\konstantin_kutovoy\\\\Documents\\\\Инициативы\\\\Тестирование\\\\doc.txt', mode='r') as file:\n",
    "    txt = file.read()\n",
    "tht.append(txt)\n",
    "print(tht)"
   ]
  },
  {
   "cell_type": "code",
   "execution_count": 10,
   "id": "53a3b52a",
   "metadata": {},
   "outputs": [
    {
     "name": "stdout",
     "output_type": "stream",
     "text": [
      "['Среды питательные ЮНОНА® во фл аконах к анализато рам бактериологическим автома тическим серии ЮНОНА® LABSTAR в вариантах исполнения: Среда питатель ная для детей с нейтрализаторами антибиотиков для культивирования аэробов юнона® во флаконе, 50 флаконов']\n"
     ]
    }
   ],
   "source": [
    "def total_clear(field_data):\n",
    "    field_data = field_data.replace('\\f',' ').replace('\\n',' ').replace('\\r',' ').replace('\\t',' ').replace('\\v',' ').replace('  ',' ')\n",
    "    if '  ' in field_data:\n",
    "        field_data = total_clear(field_data)\n",
    "    return field_data.strip()\n",
    "\n",
    "t = []\n",
    "t.append(total_clear(txt))\n",
    "print(t)"
   ]
  },
  {
   "cell_type": "code",
   "execution_count": 16,
   "id": "ff1444a9",
   "metadata": {},
   "outputs": [],
   "source": [
    "idrref = '80600050569e000911e0e42cf5dab2ce'\n",
    "refkey = 'f5dab2ce-e42c-11e0-8060-0050569e0009'"
   ]
  },
  {
   "cell_type": "code",
   "execution_count": 17,
   "id": "36041fc3",
   "metadata": {},
   "outputs": [
    {
     "data": {
      "text/plain": [
       "'f5dab2ce-e42c-11e0-8060-0050569e0009'"
      ]
     },
     "execution_count": 17,
     "metadata": {},
     "output_type": "execute_result"
    }
   ],
   "source": [
    "idrref[24:]+'-'+idrref[20:24]+'-'+idrref[16:20]+'-'+idrref[:4]+'-'+idrref[4:16]"
   ]
  },
  {
   "cell_type": "code",
   "execution_count": 18,
   "id": "0d128c4e",
   "metadata": {},
   "outputs": [
    {
     "data": {
      "text/plain": [
       "True"
      ]
     },
     "execution_count": 18,
     "metadata": {},
     "output_type": "execute_result"
    }
   ],
   "source": [
    "refkey == idrref[24:]+'-'+idrref[20:24]+'-'+idrref[16:20]+'-'+idrref[:4]+'-'+idrref[4:16]"
   ]
  },
  {
   "cell_type": "code",
   "execution_count": 10,
   "id": "b781ec67",
   "metadata": {},
   "outputs": [
    {
     "data": {
      "text/plain": [
       "'11e0'"
      ]
     },
     "execution_count": 10,
     "metadata": {},
     "output_type": "execute_result"
    }
   ],
   "source": [
    "idrref[16:20]"
   ]
  },
  {
   "cell_type": "code",
   "execution_count": 11,
   "id": "a74ff8db",
   "metadata": {},
   "outputs": [
    {
     "data": {
      "text/plain": [
       "'8060'"
      ]
     },
     "execution_count": 11,
     "metadata": {},
     "output_type": "execute_result"
    }
   ],
   "source": [
    "idrref[:4]"
   ]
  },
  {
   "cell_type": "code",
   "execution_count": 12,
   "id": "a8386d14",
   "metadata": {},
   "outputs": [
    {
     "data": {
      "text/plain": [
       "'0050569e0009'"
      ]
     },
     "execution_count": 12,
     "metadata": {},
     "output_type": "execute_result"
    }
   ],
   "source": [
    "idrref[4:16]"
   ]
  },
  {
   "cell_type": "code",
   "execution_count": null,
   "id": "42381cfb",
   "metadata": {},
   "outputs": [],
   "source": []
  }
 ],
 "metadata": {
  "kernelspec": {
   "display_name": "Python 3 (ipykernel)",
   "language": "python",
   "name": "python3"
  },
  "language_info": {
   "codemirror_mode": {
    "name": "ipython",
    "version": 3
   },
   "file_extension": ".py",
   "mimetype": "text/x-python",
   "name": "python",
   "nbconvert_exporter": "python",
   "pygments_lexer": "ipython3",
   "version": "3.10.6"
  }
 },
 "nbformat": 4,
 "nbformat_minor": 5
}
