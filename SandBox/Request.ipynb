{
 "cells": [
  {
   "cell_type": "code",
   "execution_count": 1,
   "id": "1a708320",
   "metadata": {},
   "outputs": [],
   "source": [
    "from bitrix24 import *"
   ]
  },
  {
   "cell_type": "code",
   "execution_count": 3,
   "id": "ea82bb75",
   "metadata": {},
   "outputs": [],
   "source": [
    "bx24 = Bitrix24('https://bitrix.biovitrum.ru/rest/1/33olqeits4avuyqu')"
   ]
  },
  {
   "cell_type": "code",
   "execution_count": 4,
   "id": "bda737cc",
   "metadata": {},
   "outputs": [
    {
     "data": {
      "text/plain": [
       "<bitrix24.bitrix24.Bitrix24 at 0x29539cd1240>"
      ]
     },
     "execution_count": 4,
     "metadata": {},
     "output_type": "execute_result"
    }
   ],
   "source": [
    "bx24"
   ]
  },
  {
   "cell_type": "code",
   "execution_count": 9,
   "id": "257c61b6",
   "metadata": {},
   "outputs": [
    {
     "ename": "BitrixError",
     "evalue": "Invalid request credentials",
     "output_type": "error",
     "traceback": [
      "\u001b[1;31m---------------------------------------------------------------------------\u001b[0m",
      "\u001b[1;31mBitrixError\u001b[0m                               Traceback (most recent call last)",
      "Cell \u001b[1;32mIn [9], line 1\u001b[0m\n\u001b[1;32m----> 1\u001b[0m bx24\u001b[38;5;241m.\u001b[39mcallMethod(\u001b[38;5;124m'\u001b[39m\u001b[38;5;124mmethods\u001b[39m\u001b[38;5;124m'\u001b[39m)\n",
      "File \u001b[1;32m~\\.jup\\lib\\site-packages\\bitrix24\\bitrix24.py:99\u001b[0m, in \u001b[0;36mBitrix24.callMethod\u001b[1;34m(self, method, **params)\u001b[0m\n\u001b[0;32m     96\u001b[0m     \u001b[38;5;28;01mreturn\u001b[39;00m \u001b[38;5;28mself\u001b[39m\u001b[38;5;241m.\u001b[39mcallMethod(method, \u001b[38;5;241m*\u001b[39m\u001b[38;5;241m*\u001b[39mparams)\n\u001b[0;32m     98\u001b[0m \u001b[38;5;28;01mif\u001b[39;00m \u001b[38;5;124m'\u001b[39m\u001b[38;5;124merror\u001b[39m\u001b[38;5;124m'\u001b[39m \u001b[38;5;129;01min\u001b[39;00m r:\n\u001b[1;32m---> 99\u001b[0m     \u001b[38;5;28;01mraise\u001b[39;00m BitrixError(r)\n\u001b[0;32m    100\u001b[0m \u001b[38;5;28;01mif\u001b[39;00m \u001b[38;5;124m'\u001b[39m\u001b[38;5;124mstart\u001b[39m\u001b[38;5;124m'\u001b[39m \u001b[38;5;129;01mnot\u001b[39;00m \u001b[38;5;129;01min\u001b[39;00m params:\n\u001b[0;32m    101\u001b[0m     params[\u001b[38;5;124m'\u001b[39m\u001b[38;5;124mstart\u001b[39m\u001b[38;5;124m'\u001b[39m] \u001b[38;5;241m=\u001b[39m \u001b[38;5;241m0\u001b[39m\n",
      "\u001b[1;31mBitrixError\u001b[0m: Invalid request credentials"
     ]
    }
   ],
   "source": [
    "bx24.callMethod('methods')"
   ]
  },
  {
   "cell_type": "code",
   "execution_count": null,
   "id": "6381040c",
   "metadata": {},
   "outputs": [],
   "source": []
  }
 ],
 "metadata": {
  "kernelspec": {
   "display_name": "Python 3 (ipykernel)",
   "language": "python",
   "name": "python3"
  },
  "language_info": {
   "codemirror_mode": {
    "name": "ipython",
    "version": 3
   },
   "file_extension": ".py",
   "mimetype": "text/x-python",
   "name": "python",
   "nbconvert_exporter": "python",
   "pygments_lexer": "ipython3",
   "version": "3.10.6"
  }
 },
 "nbformat": 4,
 "nbformat_minor": 5
}
