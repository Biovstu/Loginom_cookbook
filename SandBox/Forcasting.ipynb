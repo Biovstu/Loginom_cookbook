{
 "cells": [
  {
   "cell_type": "markdown",
   "id": "eaff018e",
   "metadata": {},
   "source": [
    "## Autoregression (AR)"
   ]
  },
  {
   "cell_type": "code",
   "execution_count": 1,
   "id": "2d89cd14",
   "metadata": {},
   "outputs": [],
   "source": [
    "# AR example\n",
    "from statsmodels.tsa.ar_model import AutoReg\n",
    "from random import random"
   ]
  },
  {
   "cell_type": "code",
   "execution_count": 2,
   "id": "cbe99bcc",
   "metadata": {
    "scrolled": true
   },
   "outputs": [
    {
     "data": {
      "text/plain": [
       "[1.811044228763133,\n",
       " 2.2703718165713154,\n",
       " 3.752412834861015,\n",
       " 4.404243253807892,\n",
       " 5.30963104573519,\n",
       " 6.156632772240238,\n",
       " 7.206330270700953,\n",
       " 8.805564458822417,\n",
       " 9.862668990163343,\n",
       " 10.728720547051937,\n",
       " 11.052144367215828,\n",
       " 12.541863662895318,\n",
       " 13.557314642918076,\n",
       " 14.738491098453238,\n",
       " 15.167286866393303,\n",
       " 16.469235666784723,\n",
       " 17.35423102708015,\n",
       " 18.394190608964518,\n",
       " 19.303373755667913,\n",
       " 20.308944705683114,\n",
       " 21.37962662061669,\n",
       " 22.801383424752444,\n",
       " 23.202783710992634,\n",
       " 24.944304347521925,\n",
       " 25.730766043445676,\n",
       " 26.747710448206533,\n",
       " 27.992481148793917,\n",
       " 28.537272126723146,\n",
       " 29.46582207253505,\n",
       " 30.5397998644348,\n",
       " 31.549666424291132,\n",
       " 32.022423800755064,\n",
       " 33.75203003262587,\n",
       " 34.467398360604086,\n",
       " 35.35094741636303,\n",
       " 36.91027815412701,\n",
       " 37.53863805309406,\n",
       " 38.992028161412996,\n",
       " 39.41591128384682,\n",
       " 40.7172018132419,\n",
       " 41.52261955760393,\n",
       " 42.48143666076288,\n",
       " 43.30880384349209,\n",
       " 44.81733272536228,\n",
       " 45.42113618500366,\n",
       " 46.707757840486266,\n",
       " 47.52900838434963,\n",
       " 48.56815152537707,\n",
       " 49.147660425834474,\n",
       " 50.24348338625361,\n",
       " 51.24552211198481,\n",
       " 52.40002429659483,\n",
       " 53.05374091093202,\n",
       " 54.32896914921459,\n",
       " 55.82224974507828,\n",
       " 56.50354147265011,\n",
       " 57.74975457452187,\n",
       " 58.91476945752084,\n",
       " 59.794866197614574,\n",
       " 60.361737464018475,\n",
       " 61.94805184597782,\n",
       " 62.62013533347157,\n",
       " 63.354526572553944,\n",
       " 64.43442921036406,\n",
       " 65.48042007344704,\n",
       " 66.0636617273973,\n",
       " 67.9082014789095,\n",
       " 68.67996228000801,\n",
       " 69.75278391734976,\n",
       " 70.22932813675204,\n",
       " 71.11199587263015,\n",
       " 72.67164888649329,\n",
       " 73.64589220380876,\n",
       " 74.54642731564672,\n",
       " 75.1931150170024,\n",
       " 76.92037718185205,\n",
       " 77.06280000902218,\n",
       " 78.66736378987224,\n",
       " 79.94950514923828,\n",
       " 80.78362529751702,\n",
       " 81.4435304917542,\n",
       " 82.27679615739737,\n",
       " 83.71194849834258,\n",
       " 84.63790528219164,\n",
       " 85.09229323636325,\n",
       " 86.96170117018215,\n",
       " 87.6324181085824,\n",
       " 88.1767992262694,\n",
       " 89.66523324259899,\n",
       " 90.99886250868417,\n",
       " 91.57928419067396,\n",
       " 92.73670469067791,\n",
       " 93.88655996854732,\n",
       " 94.07443120716215,\n",
       " 95.234372559781,\n",
       " 96.56344139014215,\n",
       " 97.5141528110583,\n",
       " 98.5220736889565,\n",
       " 99.12091090394593]"
      ]
     },
     "execution_count": 2,
     "metadata": {},
     "output_type": "execute_result"
    }
   ],
   "source": [
    "# contrived dataset\n",
    "data = [x + random() for x in range(1, 100)]\n",
    "data"
   ]
  },
  {
   "cell_type": "code",
   "execution_count": 3,
   "id": "b91dd6ed",
   "metadata": {},
   "outputs": [
    {
     "data": {
      "text/plain": [
       "<statsmodels.tsa.ar_model.AutoReg at 0x23ad1690f70>"
      ]
     },
     "execution_count": 3,
     "metadata": {},
     "output_type": "execute_result"
    }
   ],
   "source": [
    "# fit model\n",
    "model = AutoReg(data, lags=1)\n",
    "model"
   ]
  },
  {
   "cell_type": "code",
   "execution_count": 4,
   "id": "4705d199",
   "metadata": {
    "scrolled": true
   },
   "outputs": [
    {
     "data": {
      "text/plain": [
       "<statsmodels.tsa.ar_model.AutoRegResultsWrapper at 0x23acfce0310>"
      ]
     },
     "execution_count": 4,
     "metadata": {},
     "output_type": "execute_result"
    }
   ],
   "source": [
    "model_fit = model.fit()\n",
    "model_fit"
   ]
  },
  {
   "cell_type": "code",
   "execution_count": 5,
   "id": "02af684b",
   "metadata": {},
   "outputs": [
    {
     "name": "stdout",
     "output_type": "stream",
     "text": [
      "[100.10568927 101.09030356 102.07475379]\n"
     ]
    }
   ],
   "source": [
    "# make prediction\n",
    "yhat = model_fit.predict(len(data), len(data)+2)\n",
    "print(yhat)"
   ]
  },
  {
   "cell_type": "code",
   "execution_count": 6,
   "id": "b4afb24f",
   "metadata": {},
   "outputs": [
    {
     "name": "stdout",
     "output_type": "stream",
     "text": [
      "<class 'numpy.ndarray'>\n"
     ]
    }
   ],
   "source": [
    "print(type(yhat))"
   ]
  },
  {
   "cell_type": "code",
   "execution_count": 7,
   "id": "5d437920",
   "metadata": {},
   "outputs": [
    {
     "data": {
      "text/plain": [
       "[100.10568927017405, 101.0903035551213, 102.07475378612645]"
      ]
     },
     "execution_count": 7,
     "metadata": {},
     "output_type": "execute_result"
    }
   ],
   "source": [
    "list(yhat)"
   ]
  },
  {
   "cell_type": "code",
   "execution_count": null,
   "id": "b0808888",
   "metadata": {},
   "outputs": [],
   "source": []
  }
 ],
 "metadata": {
  "kernelspec": {
   "display_name": "Python 3 (ipykernel)",
   "language": "python",
   "name": "python3"
  },
  "language_info": {
   "codemirror_mode": {
    "name": "ipython",
    "version": 3
   },
   "file_extension": ".py",
   "mimetype": "text/x-python",
   "name": "python",
   "nbconvert_exporter": "python",
   "pygments_lexer": "ipython3",
   "version": "3.10.6"
  }
 },
 "nbformat": 4,
 "nbformat_minor": 5
}
