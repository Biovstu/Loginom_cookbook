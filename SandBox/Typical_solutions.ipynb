{
 "cells": [
  {
   "cell_type": "code",
   "execution_count": 1,
   "id": "0f99faf4",
   "metadata": {},
   "outputs": [],
   "source": [
    "import numpy as np\n",
    "import pandas as pd\n",
    "import matplotlib.pyplot as plt\n",
    "import seaborn as sns"
   ]
  },
  {
   "cell_type": "markdown",
   "id": "9412b6cc",
   "metadata": {},
   "source": [
    "## Импорт"
   ]
  },
  {
   "cell_type": "code",
   "execution_count": null,
   "id": "9e12072f",
   "metadata": {},
   "outputs": [],
   "source": [
    "path = '' # Присваиваем путь\n",
    "\n",
    "df = pd.read_csv(path) # Читаем csv\n",
    "\n",
    "import openpyxl # подбираем доп библиотеку\n",
    "sheet = '' # задаем имя листа\n",
    "\n",
    "df = pd.read_excel(open(path, 'rb'), sheet_name = sheet, engine = 'openpyxl') # Импорт из Екселя\n",
    "\n",
    "# Импорт html таблицы с разделителем разярдов как пробел и разделителем десятичных как запятая\n",
    "list_df = pd.read_html(path, thousands=' ', decimal=',')"
   ]
  },
  {
   "cell_type": "markdown",
   "id": "91563458",
   "metadata": {},
   "source": [
    "## Первичное изучение"
   ]
  },
  {
   "cell_type": "code",
   "execution_count": null,
   "id": "bbfc9c20",
   "metadata": {},
   "outputs": [],
   "source": [
    "df.info() # типы данных столбцов\n",
    "df.describe() # статистика по числовым данным\n",
    "df.describe(include='object') # статистика по текстовым данным\n",
    "df.head()\n",
    "df.top()"
   ]
  },
  {
   "cell_type": "markdown",
   "id": "5b4f8bdf",
   "metadata": {},
   "source": [
    "## Преобразование"
   ]
  },
  {
   "cell_type": "code",
   "execution_count": null,
   "id": "cd546bb9",
   "metadata": {},
   "outputs": [],
   "source": [
    "# Удаление\n",
    "col.drop(col.index, inplace=True)\n",
    "\n",
    "df.drop(columns=['id', 'date', 'zipcode', 'year', 'month', 'sqft_living15', 'sqft_lot15'], inplace=True)\n",
    "\n",
    "# Соединение\n",
    "\n",
    "pd.concat([col, col_tmp],ignore_index=True) # вертикальное\n",
    "isoprep_df = pd.concat([isoprep_df, df1], axis=1) # горизонтальное\n",
    "\n",
    "marketing = marketing.merge(price_list, how='left', on='Модель') # левое\n",
    "\n",
    "# переименование\n",
    "marketing.rename(columns={'Цена':'Стоимость'}, inplace=True)\n",
    "\n",
    "# агрегация\n",
    "buffer_frame = pd.pivot_table(input_frame, values=col_qty, index=col_nom, aggfunc=[np.std, np.mean]).reset_index()\n",
    "buffer_frame.columns = ['Номенклатура_Key','std','mean']\n",
    "\n",
    "# количество\n",
    "df[df['floors'] > 1]['floors'].count()\n",
    "\n",
    "# количество значений\n",
    "df[df['floors'] > 1]['floors'].count()\n",
    "\n",
    "df['condition'].value_counts(normalize=True)\n",
    "\n",
    "# уникальные значения\n",
    "df['D'].unique() # уникальные значения\n",
    "df['D'].nunique() # кол-во уникальных\n",
    "df['D'].nunique(dropna=False) # кол-во уникальных с null"
   ]
  },
  {
   "cell_type": "markdown",
   "id": "80859460",
   "metadata": {},
   "source": [
    "## Простые графики"
   ]
  },
  {
   "cell_type": "code",
   "execution_count": null,
   "id": "472155c2",
   "metadata": {},
   "outputs": [],
   "source": [
    "# Ящик с усами\n",
    "\n",
    "plt.figure(figsize=(6, 4))\n",
    "\n",
    "sns.boxplot(data=df[''])\n",
    "plt.title('')\n",
    "plt.xlabel('')\n",
    "plt.ylabel('')\n",
    "plt.show()"
   ]
  },
  {
   "cell_type": "code",
   "execution_count": null,
   "id": "3852d83b",
   "metadata": {},
   "outputs": [],
   "source": [
    "# Линейчатый график\n",
    "\n",
    "plt.figure(figsize=(6, 4))\n",
    "\n",
    "sns.lineplot(x=data['X'], y=data['Y'])\n",
    "\n",
    "sns.lineplot(x=data['X'], y=data['Y1'], label='Y1')\n",
    "sns.lineplot(x=data['X'], y=data['Y2'], label='Y2')\n",
    "\n",
    "plt.title('')\n",
    "plt.xlabel('')\n",
    "plt.ylabel('')\n",
    "plt.show()"
   ]
  },
  {
   "cell_type": "code",
   "execution_count": null,
   "id": "be0073a4",
   "metadata": {},
   "outputs": [],
   "source": [
    "# Гистограмма\n",
    "\n",
    "plt.figure(figsize=(8, 4))\n",
    "\n",
    "sns.histplot(df[''], bins=15)\n",
    "\n",
    "plt.title('')\n",
    "plt.xlabel('')\n",
    "plt.ylabel('')\n",
    "plt.show()"
   ]
  },
  {
   "cell_type": "code",
   "execution_count": null,
   "id": "6f60dd9c",
   "metadata": {},
   "outputs": [],
   "source": [
    "# Круговая диаграмма\n",
    "\n",
    "data = df[''].value_counts() # подсчет значений в каждой группе\n",
    "data.index = ['no', 'yes'] # присвоение новых индексов\n",
    "\n",
    "plt.figure(figsize=(6, 4))\n",
    "\n",
    "plt.pie(data, autopct='%1.1f%%') # указание формата вывода данных\n",
    "\n",
    "plt.title('')\n",
    "plt.legend(data.index);"
   ]
  },
  {
   "cell_type": "code",
   "execution_count": null,
   "id": "75f06ef0",
   "metadata": {},
   "outputs": [],
   "source": [
    "# Столбчатый график\n",
    "\n",
    "plt.figure(figsize=(8, 6))\n",
    "n_ticks = np.arange(len(data_view['no']))\n",
    "w = 0.5\n",
    "plt.bar(n_ticks, data_view['yes'], width=w * 1.5)\n",
    "plt.bar(n_ticks, data_view['no'], width=w)\n",
    "\n",
    "\n",
    "plt.title('Зависимость цены от вида и набережной')\n",
    "plt.xlabel('Вид')\n",
    "plt.ylabel('Средняя цена')\n",
    "plt.legend(['yes', 'no'])\n",
    "plt.xticks(n_ticks, data_view['view'])\n",
    "plt.show()"
   ]
  },
  {
   "cell_type": "code",
   "execution_count": null,
   "id": "0075a6f7",
   "metadata": {},
   "outputs": [],
   "source": [
    "# Комбинированный график\n",
    "\n",
    "df_cut = df[df['renovated'] == 1]\n",
    "sns.jointplot(x=df_cut['age'], y=df_cut['price'], kind='reg');"
   ]
  },
  {
   "cell_type": "code",
   "execution_count": null,
   "id": "8bfff53a",
   "metadata": {},
   "outputs": [],
   "source": [
    "# Корреляционная матрица\n",
    "\n",
    "corr_matrix = df.corr()\n",
    "corr_matrix = np.round(corr_matrix, 1)\n",
    "corr_matrix[np.abs(corr_matrix) < 0.3] = 0\n",
    "plt.figure(figsize=(10, 8))\n",
    "\n",
    "sns.set(font_scale=1.4)\n",
    "\n",
    "sns.heatmap(corr_matrix, annot=True, linewidths=.5, cmap='coolwarm')\n",
    "\n",
    "plt.title('Correlation matrix');"
   ]
  }
 ],
 "metadata": {
  "kernelspec": {
   "display_name": "Python 3 (ipykernel)",
   "language": "python",
   "name": "python3"
  },
  "language_info": {
   "codemirror_mode": {
    "name": "ipython",
    "version": 3
   },
   "file_extension": ".py",
   "mimetype": "text/x-python",
   "name": "python",
   "nbconvert_exporter": "python",
   "pygments_lexer": "ipython3",
   "version": "3.10.11"
  }
 },
 "nbformat": 4,
 "nbformat_minor": 5
}
